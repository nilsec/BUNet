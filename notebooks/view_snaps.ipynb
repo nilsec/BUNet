{
 "cells": [
  {
   "cell_type": "code",
   "execution_count": 1,
   "metadata": {},
   "outputs": [
    {
     "data": {
      "text/html": [
       "<iframe src=\"http://localhost:8880/neuroglancer#!%7B%22layers%22:%7B%22raw%22:%7B%22source%22:%22python://http://localhost:8880/28238ffd5aee72064cbdc9b6a3632429bf906e20%22,%22type%22:%22image%22%7D,%22affs%22:%7B%22source%22:%22python://http://localhost:8880/5f0dd5bc5a789949c212b9321edc280aaf5fb152%22,%22type%22:%22image%22,%22shader%22:%22void%20main()%20%7B%20emitRGB(vec3(toNormalized(getDataValue(0)),toNormalized(getDataValue(1)),toNormalized(getDataValue(2))));%20%7D%22%7D,%22gt_affs%22:%7B%22source%22:%22python://http://localhost:8880/77d225a7f7253e53a396c43ba62f49280d480ba9%22,%22type%22:%22image%22,%22shader%22:%22void%20main()%20%7B%20emitRGB(vec3(toNormalized(getDataValue(0)),toNormalized(getDataValue(1)),toNormalized(getDataValue(2))));%20%7D%22%7D%7D%7D\" width=\"100%\" height=\"1024px\"><\\iframe>"
      ],
      "text/plain": [
       "<IPython.core.display.HTML object>"
      ]
     },
     "execution_count": 1,
     "metadata": {},
     "output_type": "execute_result"
    }
   ],
   "source": [
    "import nyroglancer\n",
    "import h5py\n",
    "import os\n",
    "import numpy as np\n",
    "from scipy.special import logit, expit\n",
    "\n",
    "\n",
    "affs_file = '/groups/cardona/home/ecksteinn/BUNet/snapshots/run_24/batch_80001.0.hdf'\n",
    "\n",
    "f0 = h5py.File(affs_file, 'r')\n",
    "#f1 = h5py.File(affs_file_1, 'r')\n",
    "#f2 = h5py.File(affs_file_2, 'r')\n",
    "\n",
    "affs_0 = f0['volumes/labels/pred_affinities']\n",
    "gt_0 = f0['volumes/labels/affinities']\n",
    "raw = f0['volumes/raw']\n",
    "\n",
    "raw = np.array(raw, dtype=np.float32)*0.5 + 0.5\n",
    "\n",
    "voxel_size=(4,4,40)\n",
    "#voxel_size=(1,1,1)\n",
    "aff_offset = tuple([off for off in f0[\"volumes/labels/pred_affinities\"].attrs.items()[0][1][::-1]])\n",
    "raw_offset = tuple([off for off in f0[\"volumes/raw\"].attrs.items()[0][1][::-1]])\n",
    "\n",
    "\n",
    "viewer = nyroglancer.Viewer()\n",
    "viewer.add(raw, name='raw', voxel_size=voxel_size, offset=raw_offset)\n",
    "viewer.add(affs_0, name='affs', voxel_size=voxel_size, shader=nyroglancer.shaders.rgb(), offset=aff_offset)\n",
    "viewer.add(gt_0, name='gt_affs', voxel_size=voxel_size, shader=nyroglancer.shaders.rgb(), offset=aff_offset)\n",
    "\n",
    "viewer.set_hostname('localhost:8880')\n",
    "viewer.show()"
   ]
  },
  {
   "cell_type": "code",
   "execution_count": null,
   "metadata": {
    "collapsed": true
   },
   "outputs": [],
   "source": []
  }
 ],
 "metadata": {
  "kernelspec": {
   "display_name": "Python 2",
   "language": "python",
   "name": "python2"
  },
  "language_info": {
   "codemirror_mode": {
    "name": "ipython",
    "version": 2
   },
   "file_extension": ".py",
   "mimetype": "text/x-python",
   "name": "python",
   "nbconvert_exporter": "python",
   "pygments_lexer": "ipython2",
   "version": "2.7.13"
  }
 },
 "nbformat": 4,
 "nbformat_minor": 2
}
