{
 "cells": [
  {
   "cell_type": "code",
   "execution_count": null,
   "metadata": {
    "collapsed": true
   },
   "outputs": [],
   "source": [
    "import nyroglancer\n",
    "import h5py\n",
    "import os\n",
    "import numpy as np\n",
    "from scipy.stats import logistic\n",
    "from scipy.special import logit, expit\n",
    "\n",
    "pure=False\n",
    "\n",
    "combined = '/groups/cardona/home/ecksteinn/BUNet/combined_predictions/sample_C_padded_20160501.aligned.filled.cropped.r7.96000.c50.62:153.0:268.0:268.hdf'\n",
    "combined = '/groups/saalfeld/home/funkej/nils/combined_predictions/sample_C_padded_20160501.aligned.filled.cropped.r0.140000.c30.62:153.hdf'\n",
    "\n",
    "f = h5py.File(combined, 'r')\n",
    "\n",
    "mean_pred_affinities = f['volumes/labels/mean_pred_affinities'].value\n",
    "mean_entropy = f['volumes/labels/mean_entropy']\n",
    "raw = f['volumes/raw']\n",
    "if not pure:\n",
    "    mean_aleatoric = f['volumes/labels/mean_aleatoric'].value\n",
    "    mean_aleatoric = abs(expit(logit(mean_pred_affinities) + mean_aleatoric) - expit(logit(mean_pred_affinities) - mean_aleatoric)) \n",
    "pred_affinities_0 = f['volumes/labels/0_pred_affinities']\n",
    "var_affs = f['volumes/labels/var_pred_affinities']\n",
    "\n",
    "raw = np.array(raw, dtype=np.float32)*0.5 + 0.5\n",
    "\n",
    "voxel_size=(4,4,40)\n",
    "f2 = h5py.File('../predictions/140000/p_0/sample_C_padded_20160501.aligned.filled.cropped.62:153.hdf')\n",
    "#aff_offset = tuple([off for off in f2[\"volumes/labels/pred_affinities\"].attrs.items()[0][1][::-1]])\n",
    "#raw_offset = tuple([off for off in f2[\"volumes/raw\"].attrs.items()[0][1][::-1]])\n",
    "aff_offset = ([0,0,0])\n",
    "raw_offset = ([0,0,0])\n",
    "\n",
    "shader = \"\"\"void main() { \n",
    "  vec3 color = vec3(toNormalized(getDataValue(0)),\n",
    "                    toNormalized(getDataValue(1)),\n",
    "                    toNormalized(getDataValue(2)));\n",
    "  if ((color[2] + color[1] + color[0])/3. < 0.5) \n",
    "  emitRGB(vec3(1,0,0));\n",
    "  else (emitRGB(vec3(1,1,1)));}\"\"\"\n",
    "\n",
    "viewer = nyroglancer.Viewer()\n",
    "viewer.add(raw, name='raw', voxel_size=voxel_size, offset=raw_offset)\n",
    "viewer.add(mean_pred_affinities, name='affs_mean', voxel_size=voxel_size, shader=nyroglancer.shaders.rgb(), offset=aff_offset)\n",
    "viewer.add(pred_affinities_0, name='affs_0', voxel_size=voxel_size, shader=nyroglancer.shaders.rgb(), offset=aff_offset)\n",
    "if not pure:\n",
    "    viewer.add(mean_aleatoric, name='aleatoric_mean', voxel_size=voxel_size, shader=nyroglancer.shaders.rgb(), offset=aff_offset)\n",
    "viewer.add(mean_entropy, name='entropy_mean', voxel_size=voxel_size, shader=nyroglancer.shaders.rgb(), offset=aff_offset)\n",
    "viewer.add(var_affs, name='var_affs', voxel_size=voxel_size, shader=nyroglancer.shaders.rgb(), offset=aff_offset)\n",
    "viewer.set_hostname('localhost:8880')\n",
    "viewer.show()"
   ]
  },
  {
   "cell_type": "code",
   "execution_count": null,
   "metadata": {
    "collapsed": true
   },
   "outputs": [],
   "source": [
    "                    "
   ]
  },
  {
   "cell_type": "markdown",
   "metadata": {
    "collapsed": true
   },
   "source": [
    "### "
   ]
  }
 ],
 "metadata": {
  "kernelspec": {
   "display_name": "Python 2",
   "language": "python",
   "name": "python2"
  },
  "language_info": {
   "codemirror_mode": {
    "name": "ipython",
    "version": 2
   },
   "file_extension": ".py",
   "mimetype": "text/x-python",
   "name": "python",
   "nbconvert_exporter": "python",
   "pygments_lexer": "ipython2",
   "version": "2.7.13"
  }
 },
 "nbformat": 4,
 "nbformat_minor": 1
}
