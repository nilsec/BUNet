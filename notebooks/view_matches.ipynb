{
 "cells": [
  {
   "cell_type": "code",
   "execution_count": 5212,
   "metadata": {},
   "outputs": [
    {
     "data": {
      "text/html": [
       "<iframe src=\"http://localhost:8880/neuroglancer#!%7B%22layers%22:%7B%22raw%22:%7B%22source%22:%22python://http://localhost:8880/256e4de7301d21f12f22a509bb24ff4df684cfaf%22,%22type%22:%22image%22%7D,%22seg0%22:%7B%22source%22:%22python://http://localhost:8880/93d11ac6f45d29defea2fedb693c86cfe402efae%22,%22type%22:%22segmentation%22%7D,%22seg1%22:%7B%22source%22:%22python://http://localhost:8880/654baf5feb0fa8b4b400d6b34a914e81ac83b181%22,%22type%22:%22segmentation%22%7D%7D%7D\" width=\"100%\" height=\"1024px\"><\\iframe>"
      ],
      "text/plain": [
       "<IPython.core.display.HTML object>"
      ]
     },
     "execution_count": 5212,
     "metadata": {},
     "output_type": "execute_result"
    }
   ],
   "source": [
    "import nyroglancer\n",
    "import h5py\n",
    "import os\n",
    "import numpy as np\n",
    "from scipy.special import logit, expit\n",
    "\n",
    "affs_file_0 = '../predictions/run_22/p_0/sample_C_padded_20160501.aligned.filled.cropped.62:153.hdf'\n",
    "seg_file_0 = '../segmentations/run_22/60000/matches_2/1_seg0.h5'\n",
    "seg_file_1 = '../segmentations/run_22/60000/matches_2/1_seg1.h5'\n",
    "\n",
    "f0 = h5py.File(affs_file_0, 'r')\n",
    "s0 = h5py.File(seg_file_0, 'r')\n",
    "s1 = h5py.File(seg_file_1, 'r')\n",
    "\n",
    "raw = f0['volumes/raw']\n",
    "seg_0 = s0['volumes/labels/segmentation']\n",
    "seg_1 = s1['volumes/labels/segmentation']\n",
    "\n",
    "raw = np.array(raw, dtype=np.float32)*0.5 + 0.5\n",
    "\n",
    "voxel_size=(4,4,40)\n",
    "aff_offset = tuple([off for off in f0[\"volumes/labels/pred_affinities\"].attrs.items()[0][1][::-1]])\n",
    "raw_offset = tuple([off for off in f0[\"volumes/raw\"].attrs.items()[0][1][::-1]])\n",
    "\n",
    "viewer = nyroglancer.Viewer()\n",
    "viewer.add(raw, name='raw', voxel_size=voxel_size, offset=raw_offset)\n",
    "\n",
    "viewer.add(seg_0, name=\"seg0\", voxel_size=voxel_size, offset=aff_offset)\n",
    "viewer.add(seg_1, name=\"seg1\", voxel_size=voxel_size, offset=aff_offset)\n",
    "\n",
    "viewer.set_hostname('localhost:8880')\n",
    "viewer.show()"
   ]
  },
  {
   "cell_type": "code",
   "execution_count": null,
   "metadata": {
    "collapsed": true
   },
   "outputs": [],
   "source": []
  }
 ],
 "metadata": {
  "kernelspec": {
   "display_name": "Python 2",
   "language": "python",
   "name": "python2"
  },
  "language_info": {
   "codemirror_mode": {
    "name": "ipython",
    "version": 2
   },
   "file_extension": ".py",
   "mimetype": "text/x-python",
   "name": "python",
   "nbconvert_exporter": "python",
   "pygments_lexer": "ipython2",
   "version": "2.7.13"
  }
 },
 "nbformat": 4,
 "nbformat_minor": 2
}
