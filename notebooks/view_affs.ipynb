{
 "cells": [
  {
   "cell_type": "code",
   "execution_count": 491,
   "metadata": {},
   "outputs": [
    {
     "data": {
      "text/html": [
       "<iframe src=\"http://localhost:8880/neuroglancer#!%7B%22layers%22:%7B%22raw%22:%7B%22source%22:%22python://http://localhost:8880/f0d11fa0847ba9530323d7a3787398d75a6610f0%22,%22type%22:%22image%22%7D,%22predicted0%22:%7B%22source%22:%22python://http://localhost:8880/10995a1558f219781d9b1129b46857b82a80a286%22,%22type%22:%22image%22,%22shader%22:%22void%20main()%20%7B%20emitRGB(vec3(toNormalized(getDataValue(0)),toNormalized(getDataValue(1)),toNormalized(getDataValue(2))));%20%7D%22%7D,%22predicted1%22:%7B%22source%22:%22python://http://localhost:8880/304a9c797765c1e59360fffe00d12aea08db3bd6%22,%22type%22:%22image%22,%22shader%22:%22void%20main()%20%7B%20emitRGB(vec3(toNormalized(getDataValue(0)),toNormalized(getDataValue(1)),toNormalized(getDataValue(2))));%20%7D%22%7D%7D%7D\" width=\"100%\" height=\"1024px\"><\\iframe>"
      ],
      "text/plain": [
       "<IPython.core.display.HTML object>"
      ]
     },
     "execution_count": 491,
     "metadata": {},
     "output_type": "execute_result"
    }
   ],
   "source": [
    "import nyroglancer\n",
    "import h5py\n",
    "import os\n",
    "import numpy as np\n",
    "from scipy.special import logit, expit\n",
    "\n",
    "affs_file_0 = '../predictions/run_14/98000/p_0/sample_C_padded_20160501.aligned.filled.cropped.62:153.hdf'\n",
    "affs_file_1 = '../predictions/run_14/98000/p_1/sample_C_padded_20160501.aligned.filled.cropped.62:153.hdf'\n",
    "#affs_file_2 = '../predictions/run_22/100000/p_2/sample_C_padded_20160501.aligned.filled.cropped.62:153.hdf'\n",
    "#affs_file_3 = '../predictions/run_22/100000/p_3/sample_C_padded_20160501.aligned.filled.cropped.62:153.hdf'\n",
    "#affs_file_4 = '../predictions/run_22/100000/p_4/sample_C_padded_20160501.aligned.filled.cropped.62:153.hdf'\n",
    "\n",
    "f0 = h5py.File(affs_file_0, 'r')\n",
    "f1 = h5py.File(affs_file_1, 'r')\n",
    "#f2 = h5py.File(affs_file_2, 'r')\n",
    "#f3 = h5py.File(affs_file_2, 'r')\n",
    "#f4 = h5py.File(affs_file_2, 'r')\n",
    "\n",
    "\n",
    "affs_0 = f0['volumes/labels/pred_affinities']\n",
    "affs_1 = f1['volumes/labels/pred_affinities']\n",
    "#affs_2 = f2['volumes/labels/pred_affinities']\n",
    "#affs_3 = f2['volumes/labels/pred_affinities']\n",
    "#affs_4 = f2['volumes/labels/pred_affinities']\n",
    "\n",
    "raw = f0['volumes/raw']\n",
    "raw = np.array(raw, dtype=np.float32)*0.5 + 0.5\n",
    "\n",
    "voxel_size=(4,4,40)\n",
    "aff_offset = tuple([off for off in f0[\"volumes/labels/pred_affinities\"].attrs.items()[0][1][::-1]])\n",
    "raw_offset = tuple([off for off in f0[\"volumes/raw\"].attrs.items()[0][1][::-1]])\n",
    "\n",
    "viewer = nyroglancer.Viewer()\n",
    "viewer.add(raw, name='raw', voxel_size=voxel_size, offset=raw_offset)\n",
    "viewer.add(affs_0, name='predicted0', voxel_size=voxel_size, shader=nyroglancer.shaders.rgb(), offset=aff_offset)\n",
    "viewer.add(affs_1, name='predicted1', voxel_size=voxel_size, shader=nyroglancer.shaders.rgb(), offset=aff_offset)\n",
    "#viewer.add(affs_2, name='predicted2', voxel_size=voxel_size, shader=nyroglancer.shaders.rgb(), offset=aff_offset)\n",
    "#viewer.add(affs_3, name='predicted3', voxel_size=voxel_size, shader=nyroglancer.shaders.rgb(), offset=aff_offset)\n",
    "#viewer.add(affs_4, name='predicted4', voxel_size=voxel_size, shader=nyroglancer.shaders.rgb(), offset=aff_offset)\n",
    "\n",
    "viewer.set_hostname('localhost:8880')\n",
    "viewer.show()"
   ]
  },
  {
   "cell_type": "markdown",
   "metadata": {
    "collapsed": true
   },
   "source": []
  },
  {
   "cell_type": "code",
   "execution_count": null,
   "metadata": {
    "collapsed": true
   },
   "outputs": [],
   "source": []
  },
  {
   "cell_type": "code",
   "execution_count": null,
   "metadata": {
    "collapsed": true
   },
   "outputs": [],
   "source": []
  }
 ],
 "metadata": {
  "kernelspec": {
   "display_name": "Python 2",
   "language": "python",
   "name": "python2"
  },
  "language_info": {
   "codemirror_mode": {
    "name": "ipython",
    "version": 2
   },
   "file_extension": ".py",
   "mimetype": "text/x-python",
   "name": "python",
   "nbconvert_exporter": "python",
   "pygments_lexer": "ipython2",
   "version": "2.7.13"
  }
 },
 "nbformat": 4,
 "nbformat_minor": 2
}
