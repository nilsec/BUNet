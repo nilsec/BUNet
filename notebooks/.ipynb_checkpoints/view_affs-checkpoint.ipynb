{
 "cells": [
  {
   "cell_type": "code",
   "execution_count": 1025,
   "metadata": {},
   "outputs": [
    {
     "name": "stdout",
     "output_type": "stream",
     "text": [
      "[4180 4128 3960]\n",
      "[3756 3704 3400]\n",
      "(424, 424, 560)\n"
     ]
    },
    {
     "data": {
      "text/html": [
       "<iframe src=\"http://localhost:8880/neuroglancer#!%7B%22layers%22:%7B%22raw%22:%7B%22source%22:%22python://http://localhost:8880/6244ba5e1292c88a60a2e04e563635f2ac3b365e%22,%22type%22:%22image%22%7D,%22seg0%22:%7B%22source%22:%22python://http://localhost:8880/5aa3bd39552a7525ad4ac1f5a605730950305d61%22,%22type%22:%22segmentation%22%7D,%22seg1%22:%7B%22source%22:%22python://http://localhost:8880/5a44b74719b884eeda230a1b316e152cb33e20ef%22,%22type%22:%22segmentation%22%7D,%22gt%22:%7B%22source%22:%22python://http://localhost:8880/981520171b256748aa82c0840c2d6661f643c088%22,%22type%22:%22segmentation%22%7D%7D%7D\" width=\"100%\" height=\"1024px\"><\\iframe>"
      ],
      "text/plain": [
       "<IPython.core.display.HTML object>"
      ]
     },
     "execution_count": 1025,
     "metadata": {},
     "output_type": "execute_result"
    }
   ],
   "source": [
    "import nyroglancer\n",
    "import h5py\n",
    "import os\n",
    "import numpy as np\n",
    "from scipy.special import logit, expit\n",
    "\n",
    "affs_file_0 = '../predictions/run_22/100000/p_0/sample_C_padded_20160501.aligned.filled.cropped.62:153.hdf'\n",
    "#affs_file_1 = '../predictions/run_23/90000/p_1/sample_C_padded_20160501.aligned.filled.cropped.62:153.hdf'\n",
    "#affs_file_2 = '../predictions/run_23/100000/p_2/sample_C_padded_20160501.aligned.filled.cropped.62:153.hdf'\n",
    "#combined = '../combined_predictions/sample_C_padded_20160501.aligned.filled.cropped.62:153.r22.100000.large.hdf'\n",
    "\n",
    "seg_file_0 = '../../caffe_luigi/seg.h5'\n",
    "#seg_file_1 = '../segmentations/run_22/60000/p_1.h5'\n",
    "#seg_file_2 = '../segmentations/run_22/60000/p_2.h5'\n",
    "\n",
    "#combined = h5py.File(combined, 'r')\n",
    "\n",
    "f0 = h5py.File(affs_file_0, 'r')\n",
    "#f1 = h5py.File(affs_file_1, 'r')\n",
    "#f2 = h5py.File(affs_file_2, 'r')\n",
    "\n",
    "s0 = h5py.File(seg_file_0, 'r')\n",
    "#s1 = h5py.File(seg_file_1, 'r')\n",
    "#s2 = h5py.File(seg_file_2, 'r')\n",
    "\n",
    "\n",
    "seg_0 = np.array(s0['volumes/labels/segmentation_6'])\n",
    "seg_1 = np.array(s0['volumes/labels/segmentation_7'])\n",
    "gt = np.array(s0['volumes/labels/gt'].value)\n",
    "#frag_0 = s0['volumes/labels/fragments']\n",
    "\n",
    "#seg_1 = s1['volumes/labels/segmentation']\n",
    "#frag_1 = s1['volumes/labels/fragments']\n",
    "\n",
    "#seg_2 = s2['volumes/labels/segmentation']\n",
    "#frag_2 = s2['volumes/labels/fragments']\n",
    "\n",
    "#affs_0 = f0['volumes/labels/pred_affinities']\n",
    "#affs_1 = f1['volumes/labels/pred_affinities']\n",
    "#affs_2 = f2['volumes/labels/pred_affinities']\n",
    "\n",
    "#affs_combined = combined['volumes/labels/mean_pred_affinities']\n",
    "\n",
    "raw = f0['volumes/raw']\n",
    "\n",
    "raw = np.array(raw, dtype=np.float32)*0.5 + 0.5\n",
    "\n",
    "voxel_size=(4,4,40)\n",
    "aff_offset = tuple([off for off in f0[\"volumes/labels/pred_affinities\"].attrs.items()[0][1][::-1]])\n",
    "raw_offset = tuple([off for off in f0[\"volumes/raw\"].attrs.items()[0][1][::-1]])\n",
    "\n",
    "print np.array(aff_offset)\n",
    "print np.array(raw_offset)\n",
    "\n",
    "viewer = nyroglancer.Viewer()\n",
    "viewer.add(raw, name='raw', voxel_size=voxel_size, offset=raw_offset)\n",
    "\n",
    "#viewer.add(affs_0, name='predicted0', voxel_size=voxel_size, shader=nyroglancer.shaders.rgb(), offset=aff_offset)\n",
    "#viewer.add(affs_1, name='predicted1', voxel_size=voxel_size, shader=nyroglancer.shaders.rgb(), offset=aff_offset)\n",
    "#viewer.add(affs_2, name='predicted2', voxel_size=voxel_size, shader=nyroglancer.shaders.rgb(), offset=aff_offset)\n",
    "#viewer.add(affs_combined, name='mean', voxel_size=voxel_size, shader=nyroglancer.shaders.rgb(), offset=aff_offset)\n",
    "rel_offset = tuple(np.array(aff_offset) - np.array(raw_offset))\n",
    "print rel_offset\n",
    "viewer.add(seg_0, name=\"seg0\", voxel_size=voxel_size, offset=aff_offset) #rel_offset\n",
    "viewer.add(seg_1, name=\"seg1\", voxel_size=voxel_size, offset=aff_offset) #rel_offset\n",
    "viewer.add(gt, name=\"gt\", voxel_size=voxel_size, offset=aff_offset)\n",
    "\n",
    "viewer.set_hostname('localhost:8880')\n",
    "viewer.show()"
   ]
  },
  {
   "cell_type": "markdown",
   "metadata": {
    "collapsed": true
   },
   "source": []
  },
  {
   "cell_type": "code",
   "execution_count": null,
   "metadata": {
    "collapsed": true
   },
   "outputs": [],
   "source": []
  },
  {
   "cell_type": "code",
   "execution_count": null,
   "metadata": {
    "collapsed": true
   },
   "outputs": [],
   "source": []
  }
 ],
 "metadata": {
  "kernelspec": {
   "display_name": "Python 2",
   "language": "python",
   "name": "python2"
  },
  "language_info": {
   "codemirror_mode": {
    "name": "ipython",
    "version": 2
   },
   "file_extension": ".py",
   "mimetype": "text/x-python",
   "name": "python",
   "nbconvert_exporter": "python",
   "pygments_lexer": "ipython2",
   "version": "2.7.13"
  }
 },
 "nbformat": 4,
 "nbformat_minor": 2
}
