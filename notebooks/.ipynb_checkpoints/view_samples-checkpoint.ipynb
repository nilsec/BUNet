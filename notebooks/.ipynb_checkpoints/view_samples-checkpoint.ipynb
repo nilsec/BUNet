{
 "cells": [
  {
   "cell_type": "code",
   "execution_count": null,
   "metadata": {},
   "outputs": [],
   "source": [
    "import nyroglancer\n",
    "import h5py\n",
    "import os\n",
    "import numpy as np\n",
    "from scipy.stats import logistic\n",
    "from scipy.special import logit, expit\n",
    "\n",
    "\n",
    "#affs_file = '/groups/cardona/home/ecksteinn/BUNet/snapshots/run_14/batch_2501.0.hdf'\n",
    "#affs_file = './predictions/run_1/70000/p_0/sample_C_padded_20160501.aligned.filled.cropped.62:153.0:268.0:268.hdf'\n",
    "affs_file_0 = '../predictions/run_11/96000_large/p_0/sample_C_padded_20160501.aligned.filled.cropped.62:153.hdf'\n",
    "affs_file_1 = '../predictions/run_11/96000_large/p_1/sample_C_padded_20160501.aligned.filled.cropped.62:153.hdf'\n",
    "affs_file_2 = '../predictions/run_11/96000_large/p_2/sample_C_padded_20160501.aligned.filled.cropped.62:153.hdf'\n",
    "\n",
    "f0 = h5py.File(affs_file_0, 'r')\n",
    "f1 = h5py.File(affs_file_1, 'r')\n",
    "f2 = h5py.File(affs_file_2, 'r')\n",
    "\n",
    "f0_seg = h5py.File('../segmentations/run_11/96000/p_0.h5', \"r\")\n",
    "seg_0 = f0_seg['volumes/labels/segmentation']\n",
    "frag_0 = f0_seg['volumes/labels/fragments']\n",
    "\n",
    "affs_0 = f0['volumes/labels/pred_affinities']\n",
    "affs_1 = f1['volumes/labels/pred_affinities']\n",
    "affs_2 = f2['volumes/labels/pred_affinities']\n",
    "#sigma = np.reshape(f[\"volumes/labels/sigma\"].value, np.shape(f[\"volumes/labels/pred_affinities\"]))\n",
    "raw = f0['volumes/raw']\n",
    "#gt_affs = f[\"volumes/labels/affinities\"]\n",
    "\n",
    "raw = np.array(raw, dtype=np.float32)*0.5 + 0.5\n",
    "\n",
    "voxel_size=(4,4,40)\n",
    "#voxel_size=(1,1,1)\n",
    "aff_offset = tuple([off for off in f0[\"volumes/labels/pred_affinities\"].attrs.items()[0][1][::-1]])\n",
    "raw_offset = tuple([off for off in f0[\"volumes/raw\"].attrs.items()[0][1][::-1]])\n",
    "\n",
    "#aff_offset = tuple([0,0,0])\n",
    "#raw_offset = tuple([0,0,0])\n",
    "\n",
    "shader = \"\"\"void main() { \n",
    "  vec3 color = vec3(toNormalized(getDataValue(0)*10.),\n",
    "                    toNormalized(getDataValue(1)*10.),\n",
    "                    toNormalized(10.*getDataValue(2)));\n",
    "  if (color[0] > 0.3\n",
    "      color[1] > 0.3 \n",
    "      && color[2] > 0.3) \n",
    "  emitRGB(vec3(color[0],color[1],color[2]));}\"\"\"\n",
    "\n",
    "ale_shader = \"\"\"void main() { \n",
    "  vec3 color = vec3(toNormalized(getDataValue(0)*100.),\n",
    "                    toNormalized(getDataValue(1)*100.),\n",
    "                    toNormalized(getDataValue(2)*100.));\n",
    "  emitRGB(vec3(color[0],color[1],color[2]));}\"\"\"\n",
    "\n",
    "#ale = abs(expit(logit(affs) + sigma) - expit(logit(affs) - sigma)) \n",
    "\n",
    "viewer = nyroglancer.Viewer()\n",
    "viewer.add(raw, name='raw', voxel_size=voxel_size, offset=raw_offset)\n",
    "#viewer.add(affs_0, name='predicted0', voxel_size=voxel_size, shader=nyroglancer.shaders.rgb(), offset=aff_offset)\n",
    "#viewer.add(affs_1, name='predicted1', voxel_size=voxel_size, shader=nyroglancer.shaders.rgb(), offset=aff_offset)\n",
    "#viewer.add(affs_2, name='predicted2', voxel_size=voxel_size, shader=nyroglancer.shaders.rgb(), offset=aff_offset)\n",
    "#viewer.add(ale, name='aleatoric_prop', voxel_size=voxel_size, shader=ale_shader, offset=aff_offset)\n",
    "#viewer.add(sigma, name='aleatoric', voxel_size=voxel_size, shader=ale_shader, offset=aff_offset)\n",
    "#viewer.add(gt_affs, name='gt_affs', voxel_size=voxel_size, shader=nyroglancer.shaders.rgb(), offset=aff_offset)\n",
    "viewer.add(seg_0, name=\"seg\", voxel_size=voxel_size, offset=aff_offset)\n",
    "viewer.set_hostname('localhost:8880')\n",
    "viewer.show()"
   ]
  },
  {
   "cell_type": "code",
   "execution_count": null,
   "metadata": {
    "collapsed": true
   },
   "outputs": [],
   "source": []
  }
 ],
 "metadata": {
  "kernelspec": {
   "display_name": "Python 2",
   "language": "python",
   "name": "python2"
  },
  "language_info": {
   "codemirror_mode": {
    "name": "ipython",
    "version": 2
   },
   "file_extension": ".py",
   "mimetype": "text/x-python",
   "name": "python",
   "nbconvert_exporter": "python",
   "pygments_lexer": "ipython2",
   "version": "2.7.13"
  }
 },
 "nbformat": 4,
 "nbformat_minor": 2
}
